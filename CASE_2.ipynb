{
 "cells": [
  {
   "cell_type": "markdown",
   "metadata": {},
   "source": [
    "# Case 2\n",
    "#### Otto Åström and Vili Niemi \n",
    "#### 26.2.2019\n",
    "#### Helsinki Metropolia University of Applied Sciences\n",
    "\n",
    "In this document we build on the program created by our teachers Sakari and Juha. The \"Best guess accuracy\" is about 67%, so our job is to make the model predict better than that. As it was, this model  We will comment on what changes (if any) we make in the file, but otherwise keep things as is. "
   ]
  },
  {
   "cell_type": "code",
   "execution_count": 29,
   "metadata": {},
   "outputs": [],
   "source": [
    "import numpy as np\n",
    "import matplotlib.pyplot as plt\n",
    "import keras\n",
    "from keras import layers\n",
    "from keras import models\n",
    "\n",
    "%matplotlib inline"
   ]
  },
  {
   "cell_type": "code",
   "execution_count": 30,
   "metadata": {},
   "outputs": [
    {
     "name": "stdout",
     "output_type": "stream",
     "text": [
      "_________________________________________________________________\n",
      "Layer (type)                 Output Shape              Param #   \n",
      "=================================================================\n",
      "conv2d_10 (Conv2D)           (None, 148, 148, 32)      896       \n",
      "_________________________________________________________________\n",
      "max_pooling2d_10 (MaxPooling (None, 74, 74, 32)        0         \n",
      "_________________________________________________________________\n",
      "conv2d_11 (Conv2D)           (None, 72, 72, 32)        9248      \n",
      "_________________________________________________________________\n",
      "max_pooling2d_11 (MaxPooling (None, 36, 36, 32)        0         \n",
      "_________________________________________________________________\n",
      "conv2d_12 (Conv2D)           (None, 34, 34, 32)        9248      \n",
      "_________________________________________________________________\n",
      "max_pooling2d_12 (MaxPooling (None, 17, 17, 32)        0         \n",
      "_________________________________________________________________\n",
      "flatten_4 (Flatten)          (None, 9248)              0         \n",
      "_________________________________________________________________\n",
      "dense_7 (Dense)              (None, 512)               4735488   \n",
      "_________________________________________________________________\n",
      "dense_8 (Dense)              (None, 1)                 513       \n",
      "=================================================================\n",
      "Total params: 4,755,393\n",
      "Trainable params: 4,755,393\n",
      "Non-trainable params: 0\n",
      "_________________________________________________________________\n"
     ]
    }
   ],
   "source": [
    "model = models.Sequential()\n",
    "model.add(layers.Conv2D(32, (3, 3), activation='relu', input_shape=(150, 150, 3)))\n",
    "model.add(layers.MaxPooling2D((2, 2)))\n",
    "model.add(layers.Conv2D(32, (3, 3), activation='relu'))\n",
    "model.add(layers.MaxPooling2D((2, 2)))\n",
    "model.add(layers.Conv2D(32, (3, 3), activation='relu'))\n",
    "model.add(layers.MaxPooling2D((2, 2)))\n",
    "model.add(layers.Flatten())\n",
    "model.add(layers.Dense(512, activation='relu'))\n",
    "model.add(layers.Dense(1, activation='sigmoid'))\n",
    "\n",
    "model.summary()"
   ]
  },
  {
   "cell_type": "code",
   "execution_count": 31,
   "metadata": {},
   "outputs": [],
   "source": [
    "from keras import optimizers\n",
    "\n",
    "# Let's use slower learning rate than by default\n",
    "# https://keras.io/optimizers/\n",
    "\n",
    "model.compile(loss='binary_crossentropy',\n",
    "              optimizer=optimizers.RMSprop(lr=1e-4),\n",
    "              metrics=['acc'])"
   ]
  },
  {
   "cell_type": "markdown",
   "metadata": {},
   "source": [
    "## Making a difference\n",
    "This is where we will be making our changes. We believe that by changing the batch sizes, amount of epochs and the amount of steps per epoch we can improve on the final product of this notebook. \n",
    "\n",
    "As default, these values are as follow: batch_size=16, epochs=5, steps_per_epoch=10, and the accuracy results varied from about 66-75% between epochs. A pretty big divide.\n",
    "\n",
    "First thing we tried was we changed batch_size=20, epochs=10, and our accuracy between epochs was 67-77%. Not much better with still a pretty big divide. \n",
    "\n",
    "Lastly we went in big. We made batch_size=35, epochs=20, steps_per_epoch=20, and our accuracy was about 80%. "
   ]
  },
  {
   "cell_type": "code",
   "execution_count": 32,
   "metadata": {},
   "outputs": [
    {
     "name": "stdout",
     "output_type": "stream",
     "text": [
      "Found 1031 images belonging to 2 classes.\n",
      "Found 516 images belonging to 2 classes.\n"
     ]
    }
   ],
   "source": [
    "from keras.preprocessing.image import ImageDataGenerator\n",
    "\n",
    "train_dir = \"./dataset2/train\"\n",
    "validation_dir = \"./dataset2/validation\"\n",
    "\n",
    "# All images will be rescaled by 1./255\n",
    "train_datagen = ImageDataGenerator(rescale=1./255)\n",
    "test_datagen = ImageDataGenerator(rescale=1./255)\n",
    "\n",
    "train_generator = train_datagen.flow_from_directory(\n",
    "    # This is the target directory\n",
    "    train_dir,\n",
    "    # All images will be resized to 150x150\n",
    "    target_size=(150, 150),\n",
    "\n",
    "    # We read images in batches\n",
    "    batch_size=35,\n",
    "    \n",
    "    # Since we use binary_crossentropy loss, we need binary labels\n",
    "    class_mode='binary')\n",
    "\n",
    "validation_generator = test_datagen.flow_from_directory(\n",
    "        validation_dir,\n",
    "        target_size=(150, 150),\n",
    "        batch_size=35,\n",
    "        class_mode='binary')"
   ]
  },
  {
   "cell_type": "code",
   "execution_count": 33,
   "metadata": {},
   "outputs": [
    {
     "name": "stdout",
     "output_type": "stream",
     "text": [
      "data batch shape: (35, 150, 150, 3)\n",
      "labels batch shape: (35,)\n",
      "data batch shape: (35, 150, 150, 3)\n",
      "labels batch shape: (35,)\n",
      "data batch shape: (35, 150, 150, 3)\n",
      "labels batch shape: (35,)\n",
      "data batch shape: (35, 150, 150, 3)\n",
      "labels batch shape: (35,)\n",
      "data batch shape: (35, 150, 150, 3)\n",
      "labels batch shape: (35,)\n",
      "data batch shape: (35, 150, 150, 3)\n",
      "labels batch shape: (35,)\n"
     ]
    }
   ],
   "source": [
    "# Testing that train generator works\n",
    "i = 0\n",
    "for data_batch, labels_batch in train_generator:\n",
    "    print('data batch shape:', data_batch.shape)\n",
    "    print('labels batch shape:', labels_batch.shape)\n",
    "    i = i + 1\n",
    "    if i > 5:\n",
    "        break"
   ]
  },
  {
   "cell_type": "code",
   "execution_count": 34,
   "metadata": {},
   "outputs": [
    {
     "data": {
      "text/plain": [
       "array([1., 1., 0., 1., 0., 1., 0., 0., 0., 0., 0., 1., 0., 0., 0., 1., 0.,\n",
       "       0., 1., 0., 1., 0., 0., 0., 0., 1., 0., 0., 0., 0., 0., 0., 1., 0.,\n",
       "       1.], dtype=float32)"
      ]
     },
     "execution_count": 34,
     "metadata": {},
     "output_type": "execute_result"
    }
   ],
   "source": [
    "# Check the last labels batch\n",
    "labels_batch"
   ]
  },
  {
   "cell_type": "code",
   "execution_count": 35,
   "metadata": {
    "scrolled": true
   },
   "outputs": [
    {
     "name": "stdout",
     "output_type": "stream",
     "text": [
      "Epoch 1/20\n",
      "20/20 [==============================] - 343s 17s/step - loss: 0.5650 - acc: 0.6843 - val_loss: 0.5312 - val_acc: 0.7171\n",
      "Epoch 2/20\n",
      "20/20 [==============================] - 334s 17s/step - loss: 0.5288 - acc: 0.7103 - val_loss: 0.5101 - val_acc: 0.7302\n",
      "Epoch 3/20\n",
      "20/20 [==============================] - 363s 18s/step - loss: 0.5001 - acc: 0.7402 - val_loss: 0.4855 - val_acc: 0.7097\n",
      "Epoch 4/20\n",
      "20/20 [==============================] - 327s 16s/step - loss: 0.4877 - acc: 0.7629 - val_loss: 0.5038 - val_acc: 0.7571\n",
      "Epoch 5/20\n",
      "20/20 [==============================] - 339s 17s/step - loss: 0.4825 - acc: 0.7561 - val_loss: 0.4692 - val_acc: 0.7771\n",
      "Epoch 6/20\n",
      "20/20 [==============================] - 331s 17s/step - loss: 0.4771 - acc: 0.7516 - val_loss: 0.4928 - val_acc: 0.7537\n",
      "Epoch 7/20\n",
      "20/20 [==============================] - 382s 19s/step - loss: 0.4902 - acc: 0.7557 - val_loss: 0.4546 - val_acc: 0.7657\n",
      "Epoch 8/20\n",
      "20/20 [==============================] - 333s 17s/step - loss: 0.4569 - acc: 0.7806 - val_loss: 0.4862 - val_acc: 0.7273\n",
      "Epoch 9/20\n",
      "20/20 [==============================] - 330s 16s/step - loss: 0.4083 - acc: 0.8223 - val_loss: 0.4636 - val_acc: 0.7771\n",
      "Epoch 10/20\n",
      "20/20 [==============================] - 359s 18s/step - loss: 0.4610 - acc: 0.7843 - val_loss: 0.4625 - val_acc: 0.7629\n",
      "Epoch 11/20\n",
      "20/20 [==============================] - 356s 18s/step - loss: 0.4355 - acc: 0.7869 - val_loss: 0.5012 - val_acc: 0.7507\n",
      "Epoch 12/20\n",
      "20/20 [==============================] - 341s 17s/step - loss: 0.4398 - acc: 0.7788 - val_loss: 0.4769 - val_acc: 0.7302\n",
      "Epoch 13/20\n",
      "20/20 [==============================] - 356s 18s/step - loss: 0.4238 - acc: 0.8029 - val_loss: 0.4368 - val_acc: 0.7743\n",
      "Epoch 14/20\n",
      "20/20 [==============================] - 368s 18s/step - loss: 0.4263 - acc: 0.7874 - val_loss: 0.5290 - val_acc: 0.7038\n",
      "Epoch 15/20\n",
      "20/20 [==============================] - 368s 18s/step - loss: 0.4112 - acc: 0.8078 - val_loss: 0.4351 - val_acc: 0.7683\n",
      "Epoch 16/20\n",
      "20/20 [==============================] - 368s 18s/step - loss: 0.4081 - acc: 0.8143 - val_loss: 0.4817 - val_acc: 0.7543\n",
      "Epoch 17/20\n",
      "20/20 [==============================] - 356s 18s/step - loss: 0.4059 - acc: 0.8076 - val_loss: 0.4732 - val_acc: 0.7566\n",
      "Epoch 18/20\n",
      "20/20 [==============================] - 357s 18s/step - loss: 0.4165 - acc: 0.8163 - val_loss: 0.5080 - val_acc: 0.7742\n",
      "Epoch 19/20\n",
      "20/20 [==============================] - 351s 18s/step - loss: 0.4024 - acc: 0.8100 - val_loss: 0.4696 - val_acc: 0.7457\n",
      "Epoch 20/20\n",
      "20/20 [==============================] - 355s 18s/step - loss: 0.4131 - acc: 0.8061 - val_loss: 0.4673 - val_acc: 0.7771\n"
     ]
    }
   ],
   "source": [
    "# Our first trial is to read only 10 batches per epoch (10x16 = 160 images per epoch)\n",
    "# and run only 5 epochs\n",
    "history = model.fit_generator(\n",
    "      train_generator,\n",
    "      steps_per_epoch = 20,\n",
    "      verbose = 1,\n",
    "      epochs = 20,\n",
    "      validation_data = validation_generator,\n",
    "      validation_steps = 10)\n",
    "\n",
    "# Save the model\n",
    "model.save('case_2_run_1.h5')"
   ]
  },
  {
   "cell_type": "code",
   "execution_count": 36,
   "metadata": {},
   "outputs": [
    {
     "data": {
      "image/png": "[encoded data removed]",
      "text/plain": [
       "<Figure size 432x288 with 1 Axes>"
      ]
     },
     "metadata": {
      "needs_background": "light"
     },
     "output_type": "display_data"
    },
    {
     "data": {
      "image/png": "[encoded data removed]",
      "text/plain": [
       "<Figure size 432x288 with 1 Axes>"
      ]
     },
     "metadata": {
      "needs_background": "light"
     },
     "output_type": "display_data"
    }
   ],
   "source": [
    "acc = history.history['acc']\n",
    "val_acc = history.history['val_acc']\n",
    "loss = history.history['loss']\n",
    "val_loss = history.history['val_loss']\n",
    "\n",
    "epochs = range(len(acc))\n",
    "\n",
    "plt.plot(epochs, acc, 'bo', label='Training acc')\n",
    "plt.plot(epochs, val_acc, 'b', label='Validation acc')\n",
    "plt.title('Training and validation accuracy')\n",
    "plt.legend()\n",
    "\n",
    "plt.figure()\n",
    "\n",
    "plt.plot(epochs, loss, 'bo', label='Training loss')\n",
    "plt.plot(epochs, val_loss, 'b', label='Validation loss')\n",
    "plt.title('Training and validation loss')\n",
    "plt.legend()\n",
    "\n",
    "plt.show()"
   ]
  },
  {
   "cell_type": "code",
   "execution_count": 28,
   "metadata": {},
   "outputs": [
    {
     "name": "stdout",
     "output_type": "stream",
     "text": [
      "Best guess accuracy: 0.6665\n"
     ]
    }
   ],
   "source": [
    "# Best guess calculation\n",
    "# No_symptoms / (No_symptoms + Symptoms)\n",
    "print('Best guess accuracy: {:.4f}'.format(1031/(1031+516)))"
   ]
  },
  {
   "cell_type": "code",
   "execution_count": null,
   "metadata": {},
   "outputs": [],
   "source": []
  }
 ],
 "metadata": {
  "kernelspec": {
   "display_name": "Python 3",
   "language": "python",
   "name": "python3"
  },
  "language_info": {
   "codemirror_mode": {
    "name": "ipython",
    "version": 3
   },
   "file_extension": ".py",
   "mimetype": "text/x-python",
   "name": "python",
   "nbconvert_exporter": "python",
   "pygments_lexer": "ipython3",
   "version": "3.6.7"
  }
 },
 "nbformat": 4,
 "nbformat_minor": 2
}
